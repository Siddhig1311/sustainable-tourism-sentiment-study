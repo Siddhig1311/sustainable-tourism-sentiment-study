{
 "cells": [
  {
   "cell_type": "code",
   "execution_count": 4,
   "id": "9c95df55-54af-448b-b970-d6e14fde98cd",
   "metadata": {},
   "outputs": [
    {
     "name": "stdout",
     "output_type": "stream",
     "text": [
      "Requirement already satisfied: pandas in c:\\users\\siddhi\\anaconda3\\lib\\site-packages (2.2.2)\n",
      "Requirement already satisfied: nltk in c:\\users\\siddhi\\anaconda3\\lib\\site-packages (3.9.1)\n",
      "Requirement already satisfied: textblob in c:\\users\\siddhi\\anaconda3\\lib\\site-packages (0.19.0)\n",
      "Requirement already satisfied: seaborn in c:\\users\\siddhi\\anaconda3\\lib\\site-packages (0.13.2)\n",
      "Requirement already satisfied: wordcloud in c:\\users\\siddhi\\anaconda3\\lib\\site-packages (1.9.4)\n",
      "Requirement already satisfied: openpyxl in c:\\users\\siddhi\\anaconda3\\lib\\site-packages (3.1.2)\n",
      "Requirement already satisfied: numpy>=1.26.0 in c:\\users\\siddhi\\anaconda3\\lib\\site-packages (from pandas) (1.26.4)\n",
      "Requirement already satisfied: python-dateutil>=2.8.2 in c:\\users\\siddhi\\anaconda3\\lib\\site-packages (from pandas) (2.9.0.post0)\n",
      "Requirement already satisfied: pytz>=2020.1 in c:\\users\\siddhi\\anaconda3\\lib\\site-packages (from pandas) (2024.1)\n",
      "Requirement already satisfied: tzdata>=2022.7 in c:\\users\\siddhi\\anaconda3\\lib\\site-packages (from pandas) (2023.3)\n",
      "Requirement already satisfied: click in c:\\users\\siddhi\\anaconda3\\lib\\site-packages (from nltk) (8.1.7)\n",
      "Requirement already satisfied: joblib in c:\\users\\siddhi\\anaconda3\\lib\\site-packages (from nltk) (1.4.2)\n",
      "Requirement already satisfied: regex>=2021.8.3 in c:\\users\\siddhi\\anaconda3\\lib\\site-packages (from nltk) (2023.10.3)\n",
      "Requirement already satisfied: tqdm in c:\\users\\siddhi\\anaconda3\\lib\\site-packages (from nltk) (4.66.4)\n",
      "Requirement already satisfied: matplotlib!=3.6.1,>=3.4 in c:\\users\\siddhi\\anaconda3\\lib\\site-packages (from seaborn) (3.8.4)\n",
      "Requirement already satisfied: pillow in c:\\users\\siddhi\\anaconda3\\lib\\site-packages (from wordcloud) (10.3.0)\n",
      "Requirement already satisfied: et-xmlfile in c:\\users\\siddhi\\anaconda3\\lib\\site-packages (from openpyxl) (1.1.0)\n",
      "Requirement already satisfied: contourpy>=1.0.1 in c:\\users\\siddhi\\anaconda3\\lib\\site-packages (from matplotlib!=3.6.1,>=3.4->seaborn) (1.2.0)\n",
      "Requirement already satisfied: cycler>=0.10 in c:\\users\\siddhi\\anaconda3\\lib\\site-packages (from matplotlib!=3.6.1,>=3.4->seaborn) (0.11.0)\n",
      "Requirement already satisfied: fonttools>=4.22.0 in c:\\users\\siddhi\\anaconda3\\lib\\site-packages (from matplotlib!=3.6.1,>=3.4->seaborn) (4.51.0)\n",
      "Requirement already satisfied: kiwisolver>=1.3.1 in c:\\users\\siddhi\\anaconda3\\lib\\site-packages (from matplotlib!=3.6.1,>=3.4->seaborn) (1.4.4)\n",
      "Requirement already satisfied: packaging>=20.0 in c:\\users\\siddhi\\anaconda3\\lib\\site-packages (from matplotlib!=3.6.1,>=3.4->seaborn) (23.2)\n",
      "Requirement already satisfied: pyparsing>=2.3.1 in c:\\users\\siddhi\\anaconda3\\lib\\site-packages (from matplotlib!=3.6.1,>=3.4->seaborn) (3.0.9)\n",
      "Requirement already satisfied: six>=1.5 in c:\\users\\siddhi\\anaconda3\\lib\\site-packages (from python-dateutil>=2.8.2->pandas) (1.16.0)\n",
      "Requirement already satisfied: colorama in c:\\users\\siddhi\\anaconda3\\lib\\site-packages (from click->nltk) (0.4.6)\n",
      "Note: you may need to restart the kernel to use updated packages.\n"
     ]
    }
   ],
   "source": [
    "pip install pandas nltk textblob seaborn wordcloud openpyxl"
   ]
  },
  {
   "cell_type": "code",
   "execution_count": 2,
   "id": "e3a010f1-9fbb-4b27-9bea-a3c96b04498f",
   "metadata": {},
   "outputs": [
    {
     "name": "stdout",
     "output_type": "stream",
     "text": [
      "                                         Review_Text\n",
      "0  My visit here was quick as there was not much ...\n",
      "1  It was a bit crowded on a weekday afternoon so...\n",
      "2  Visiting the Gateway of India was an incredibl...\n",
      "3                               Inspirational visit.\n",
      "4  Every one should visit this place to feel prou...\n"
     ]
    }
   ],
   "source": [
    "import pandas as pd\n",
    "\n",
    "# Load the Excel file\n",
    "file_path = \"excel reviews.xlsx\"  # Ensure the file is in the correct directory\n",
    "data = pd.read_excel(file_path, engine='openpyxl')\n",
    "\n",
    "# Display the first few rows\n",
    "print(data.head())\n",
    "\n"
   ]
  },
  {
   "cell_type": "code",
   "execution_count": 6,
   "id": "b7a20c51-b108-4c93-8396-d7471d9c1bb6",
   "metadata": {},
   "outputs": [
    {
     "name": "stderr",
     "output_type": "stream",
     "text": [
      "[nltk_data] Downloading package stopwords to\n",
      "[nltk_data]     C:\\Users\\Siddhi\\AppData\\Roaming\\nltk_data...\n",
      "[nltk_data]   Package stopwords is already up-to-date!\n"
     ]
    }
   ],
   "source": [
    "import nltk\n",
    "from nltk.corpus import stopwords\n",
    "import re\n",
    "\n",
    "nltk.download('stopwords')\n",
    "stop_words = set(stopwords.words('english'))\n",
    "\n",
    "def clean_text(text):\n",
    "    text = re.sub(r'\\W', ' ', str(text))  # Remove special characters\n",
    "    text = text.lower()  # Convert to lowercase\n",
    "    text = ' '.join([word for word in text.split() if word not in stop_words])  # Remove stopwords\n",
    "    return text\n",
    "\n",
    "data[\"Cleaned_Review\"] = data[\"Review_Text\"].apply(clean_text)\n"
   ]
  },
  {
   "cell_type": "code",
   "execution_count": 10,
   "id": "8f9a08d9-22f6-4c11-b407-465d2a94cadb",
   "metadata": {},
   "outputs": [],
   "source": [
    "from textblob import TextBlob\n",
    "\n",
    "def get_sentiment(text):\n",
    "    analysis = TextBlob(text)\n",
    "    if analysis.sentiment.polarity > 0:\n",
    "        return \"Positive\"\n",
    "    elif analysis.sentiment.polarity < 0:\n",
    "        return \"Negative\"\n",
    "    else:\n",
    "        return \"Neutral\"\n",
    "\n",
    "data[\"Sentiment\"] = data[\"Cleaned_Review\"].apply(get_sentiment)\n"
   ]
  },
  {
   "cell_type": "code",
   "execution_count": 12,
   "id": "206ed90e-e32e-47f6-97f3-b41e66648e0f",
   "metadata": {},
   "outputs": [
    {
     "name": "stderr",
     "output_type": "stream",
     "text": [
      "[nltk_data] Downloading package vader_lexicon to\n",
      "[nltk_data]     C:\\Users\\Siddhi\\AppData\\Roaming\\nltk_data...\n"
     ]
    }
   ],
   "source": [
    "from nltk.sentiment import SentimentIntensityAnalyzer\n",
    "nltk.download('vader_lexicon')\n",
    "\n",
    "sia = SentimentIntensityAnalyzer()\n",
    "\n",
    "def analyze_sentiment_vader(text):\n",
    "    score = sia.polarity_scores(text)\n",
    "    if score['compound'] >= 0.05:\n",
    "        return \"Positive\"\n",
    "    elif score['compound'] <= -0.05:\n",
    "        return \"Negative\"\n",
    "    else:\n",
    "        return \"Neutral\"\n",
    "\n",
    "data[\"VADER_Sentiment\"] = data[\"Cleaned_Review\"].apply(analyze_sentiment_vader)\n"
   ]
  },
  {
   "cell_type": "code",
   "execution_count": 14,
   "id": "e8dc4957-adb4-4e2a-a114-1fd5795a99b1",
   "metadata": {},
   "outputs": [],
   "source": [
    "def calculate_sustainability_score(sentiment):\n",
    "    if sentiment == \"Positive\":\n",
    "        return 1\n",
    "    elif sentiment == \"Neutral\":\n",
    "        return 0.5\n",
    "    else:\n",
    "        return 0\n",
    "\n",
    "data[\"Sustainability_Score\"] = data[\"VADER_Sentiment\"].apply(calculate_sustainability_score)\n"
   ]
  },
  {
   "cell_type": "code",
   "execution_count": 16,
   "id": "95f1d38a-0b50-43c5-b626-8eadb56cd769",
   "metadata": {},
   "outputs": [
    {
     "data": {
      "text/plain": [
       "0     0.5\n",
       "1     0.5\n",
       "2     1.0\n",
       "3     1.0\n",
       "4     1.0\n",
       "5     0.5\n",
       "6     0.0\n",
       "7     1.0\n",
       "8     0.5\n",
       "9     0.0\n",
       "10    0.0\n",
       "11    1.0\n",
       "12    1.0\n",
       "13    1.0\n",
       "14    1.0\n",
       "15    1.0\n",
       "16    0.0\n",
       "17    1.0\n",
       "18    1.0\n",
       "19    1.0\n",
       "20    1.0\n",
       "21    1.0\n",
       "22    1.0\n",
       "23    1.0\n",
       "24    1.0\n",
       "25    1.0\n",
       "26    1.0\n",
       "27    1.0\n",
       "28    1.0\n",
       "29    1.0\n",
       "30    1.0\n",
       "31    1.0\n",
       "32    1.0\n",
       "33    1.0\n",
       "34    0.0\n",
       "35    0.0\n",
       "36    1.0\n",
       "37    0.0\n",
       "38    1.0\n",
       "39    0.5\n",
       "40    1.0\n",
       "41    1.0\n",
       "42    1.0\n",
       "43    0.5\n",
       "44    0.5\n",
       "45    1.0\n",
       "46    1.0\n",
       "47    0.5\n",
       "48    0.5\n",
       "49    0.5\n",
       "Name: Sustainability_Score, dtype: float64"
      ]
     },
     "execution_count": 16,
     "metadata": {},
     "output_type": "execute_result"
    }
   ],
   "source": [
    "data[\"Sustainability_Score\"]"
   ]
  },
  {
   "cell_type": "code",
   "execution_count": 18,
   "id": "82389095-2181-4b8d-b2c5-3ca97e1078bf",
   "metadata": {},
   "outputs": [
    {
     "name": "stdout",
     "output_type": "stream",
     "text": [
      "VADER_Sentiment\n",
      "Negative    0.0\n",
      "Neutral     0.5\n",
      "Positive    1.0\n",
      "Name: Sustainability_Score, dtype: float64\n"
     ]
    }
   ],
   "source": [
    "score_summary = data.groupby(\"VADER_Sentiment\")[\"Sustainability_Score\"].mean()\n",
    "print(score_summary)\n"
   ]
  },
  {
   "cell_type": "code",
   "execution_count": 20,
   "id": "a31b1dc8-0c39-48bb-8978-b15fe0b2e4cb",
   "metadata": {},
   "outputs": [
    {
     "data": {
      "image/png": "[encoded data removed]",
      "text/plain": [
       "<Figure size 640x480 with 1 Axes>"
      ]
     },
     "metadata": {},
     "output_type": "display_data"
    }
   ],
   "source": [
    "import matplotlib.pyplot as plt\n",
    "\n",
    "sentiment_counts = data[\"VADER_Sentiment\"].value_counts()\n",
    "plt.pie(sentiment_counts, labels=sentiment_counts.index, autopct='%1.1f%%', colors=[\"green\", \"orange\", \"red\"])\n",
    "plt.title(\"Sentiment Analysis of India Gate Reviews\")\n",
    "plt.show()\n"
   ]
  },
  {
   "cell_type": "code",
   "execution_count": 22,
   "id": "4090095b-556f-4fb7-94e1-b87a4559f1a8",
   "metadata": {},
   "outputs": [
    {
     "data": {
      "image/png": "[encoded data removed]",
      "text/plain": [
       "<Figure size 640x480 with 1 Axes>"
      ]
     },
     "metadata": {},
     "output_type": "display_data"
    }
   ],
   "source": [
    "import seaborn as sns\n",
    "\n",
    "sns.histplot(data[\"Sustainability_Score\"], bins=10, kde=True)\n",
    "plt.title(\"Sustainability Score Distribution\")\n",
    "plt.show()\n"
   ]
  }
 ],
 "metadata": {
  "kernelspec": {
   "display_name": "Python 3 (ipykernel)",
   "language": "python",
   "name": "python3"
  },
  "language_info": {
   "codemirror_mode": {
    "name": "ipython",
    "version": 3
   },
   "file_extension": ".py",
   "mimetype": "text/x-python",
   "name": "python",
   "nbconvert_exporter": "python",
   "pygments_lexer": "ipython3",
   "version": "3.12.4"
  }
 },
 "nbformat": 4,
 "nbformat_minor": 5
}
